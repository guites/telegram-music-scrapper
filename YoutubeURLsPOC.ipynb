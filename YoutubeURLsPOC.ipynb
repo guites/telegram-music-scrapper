{
 "cells": [
  {
   "cell_type": "markdown",
   "id": "3c3f7f90",
   "metadata": {},
   "source": [
    "# Telegram channel message data analysis"
   ]
  },
  {
   "cell_type": "code",
   "execution_count": 4,
   "id": "56a118a7",
   "metadata": {},
   "outputs": [],
   "source": [
    "import json\n",
    "import pandas as pd\n",
    "import re\n",
    "import requests\n",
    "\n",
    "from bs4 import BeautifulSoup\n",
    "from glob import glob"
   ]
  },
  {
   "cell_type": "markdown",
   "id": "1ba1ed8c",
   "metadata": {},
   "source": [
    "## Load message data from json files\n",
    "\n",
    "Let's loop through all available files and concatenate\n",
    "their values into a single dataframe."
   ]
  },
  {
   "cell_type": "code",
   "execution_count": 5,
   "id": "fd752b90",
   "metadata": {},
   "outputs": [],
   "source": [
    "json_files = glob(\"*-messages.json\")"
   ]
  },
  {
   "cell_type": "code",
   "execution_count": 6,
   "id": "88409bd7",
   "metadata": {},
   "outputs": [],
   "source": [
    "def grab_wanted_object_properties(parsed_json):\n",
    "    wanted_props = {\n",
    "        \"message_id\": parsed_json['id'],\n",
    "        \"date\": parsed_json['date'],\n",
    "    }\n",
    "    wanted_props[\"message\"] = parsed_json['message'] if \"message\" in parsed_json else None\n",
    "    return wanted_props"
   ]
  },
  {
   "cell_type": "code",
   "execution_count": 7,
   "id": "1b68a499",
   "metadata": {},
   "outputs": [],
   "source": [
    "formatted_list = []\n",
    "for file in json_files:\n",
    "    with open(file, 'r') as json_file:\n",
    "        loaded_file = json.load(json_file)\n",
    "    for obj in loaded_file:\n",
    "        formatted_list.append(grab_wanted_object_properties(obj))"
   ]
  },
  {
   "cell_type": "code",
   "execution_count": 8,
   "id": "f733ba99",
   "metadata": {},
   "outputs": [],
   "source": [
    "df = pd.DataFrame(formatted_list)"
   ]
  },
  {
   "cell_type": "code",
   "execution_count": 9,
   "id": "c163c566",
   "metadata": {},
   "outputs": [
    {
     "data": {
      "text/html": [
       "<div>\n",
       "<style scoped>\n",
       "    .dataframe tbody tr th:only-of-type {\n",
       "        vertical-align: middle;\n",
       "    }\n",
       "\n",
       "    .dataframe tbody tr th {\n",
       "        vertical-align: top;\n",
       "    }\n",
       "\n",
       "    .dataframe thead th {\n",
       "        text-align: right;\n",
       "    }\n",
       "</style>\n",
       "<table border=\"1\" class=\"dataframe\">\n",
       "  <thead>\n",
       "    <tr style=\"text-align: right;\">\n",
       "      <th></th>\n",
       "      <th>message_id</th>\n",
       "      <th>date</th>\n",
       "      <th>message</th>\n",
       "    </tr>\n",
       "  </thead>\n",
       "  <tbody>\n",
       "    <tr>\n",
       "      <th>0</th>\n",
       "      <td>66147</td>\n",
       "      <td>2023-02-22 12:28:36+00:00</td>\n",
       "      <td>guest_42: Kraken</td>\n",
       "    </tr>\n",
       "    <tr>\n",
       "      <th>1</th>\n",
       "      <td>66146</td>\n",
       "      <td>2023-02-22 12:26:42+00:00</td>\n",
       "      <td>guest_42: OCRopus?</td>\n",
       "    </tr>\n",
       "    <tr>\n",
       "      <th>2</th>\n",
       "      <td>66145</td>\n",
       "      <td>2023-02-22 12:13:17+00:00</td>\n",
       "      <td>Não entendi o que é que tu quer que a bibliote...</td>\n",
       "    </tr>\n",
       "    <tr>\n",
       "      <th>3</th>\n",
       "      <td>66144</td>\n",
       "      <td>2023-02-22 11:46:27+00:00</td>\n",
       "      <td>Bom dia. Existe alguma biblioteca em python pr...</td>\n",
       "    </tr>\n",
       "    <tr>\n",
       "      <th>4</th>\n",
       "      <td>66143</td>\n",
       "      <td>2023-02-20 21:01:41+00:00</td>\n",
       "      <td>fogo na babilonha</td>\n",
       "    </tr>\n",
       "  </tbody>\n",
       "</table>\n",
       "</div>"
      ],
      "text/plain": [
       "   message_id                       date  \\\n",
       "0       66147  2023-02-22 12:28:36+00:00   \n",
       "1       66146  2023-02-22 12:26:42+00:00   \n",
       "2       66145  2023-02-22 12:13:17+00:00   \n",
       "3       66144  2023-02-22 11:46:27+00:00   \n",
       "4       66143  2023-02-20 21:01:41+00:00   \n",
       "\n",
       "                                             message  \n",
       "0                                   guest_42: Kraken  \n",
       "1                                 guest_42: OCRopus?  \n",
       "2  Não entendi o que é que tu quer que a bibliote...  \n",
       "3  Bom dia. Existe alguma biblioteca em python pr...  \n",
       "4                                  fogo na babilonha  "
      ]
     },
     "execution_count": 9,
     "metadata": {},
     "output_type": "execute_result"
    }
   ],
   "source": [
    "df.head()"
   ]
  },
  {
   "cell_type": "code",
   "execution_count": 10,
   "id": "b9a86948",
   "metadata": {},
   "outputs": [
    {
     "name": "stdout",
     "output_type": "stream",
     "text": [
      "<class 'pandas.core.frame.DataFrame'>\n",
      "RangeIndex: 1800 entries, 0 to 1799\n",
      "Data columns (total 3 columns):\n",
      " #   Column      Non-Null Count  Dtype \n",
      "---  ------      --------------  ----- \n",
      " 0   message_id  1800 non-null   int64 \n",
      " 1   date        1800 non-null   object\n",
      " 2   message     1784 non-null   object\n",
      "dtypes: int64(1), object(2)\n",
      "memory usage: 42.3+ KB\n"
     ]
    }
   ],
   "source": [
    "df.info()"
   ]
  },
  {
   "cell_type": "code",
   "execution_count": 11,
   "id": "98b02820",
   "metadata": {},
   "outputs": [
    {
     "data": {
      "text/plain": [
       "message_id     int64\n",
       "date          object\n",
       "message       object\n",
       "dtype: object"
      ]
     },
     "execution_count": 11,
     "metadata": {},
     "output_type": "execute_result"
    }
   ],
   "source": [
    "df.dtypes"
   ]
  },
  {
   "cell_type": "markdown",
   "id": "04bc8432",
   "metadata": {},
   "source": [
    "## Finding messages with youtube URLs\n",
    "\n",
    "This can be done by using a regular expression."
   ]
  },
  {
   "cell_type": "code",
   "execution_count": 12,
   "id": "16f7e421",
   "metadata": {},
   "outputs": [],
   "source": [
    "def find_youtube_url(message):\n",
    "    if message is None:\n",
    "        return None\n",
    "    rgx = re.search(\n",
    "        \"(?:https?:\\/\\/)?(?:m\\.)?(?:www\\.)?youtu\\.?be(?:\\.com)?\\/?\\S*(?:watch|embed)?(?:\\S*v=|v\\/|\\/)([\\w\\-]+)(?:[\\&\\?]?([\\w\\-]+)?=?([\\w\\%\\-]+)?)+\",\n",
    "        message\n",
    "    )\n",
    "    return rgx.group(0) if rgx is not None else None"
   ]
  },
  {
   "cell_type": "code",
   "execution_count": 13,
   "id": "5cc1a27a",
   "metadata": {},
   "outputs": [
    {
     "name": "stdout",
     "output_type": "stream",
     "text": [
      "Encontrado: https://www.youtube.com/watch?v=SOJSM46nWwo\n",
      "Encontrado: None\n"
     ]
    }
   ],
   "source": [
    "test_1 = find_youtube_url(\"Essa música aqui que é boa: https://www.youtube.com/watch?v=SOJSM46nWwo\")\n",
    "print(f\"Encontrado: {test_1}\")\n",
    "test_2 = find_youtube_url(\"Essa mensagem não tem nenhuma url do youtube!\")\n",
    "print(f\"Encontrado: {test_2}\")"
   ]
  },
  {
   "cell_type": "markdown",
   "id": "d5e99000",
   "metadata": {},
   "source": [
    "### Creating a new DataFrame column\n",
    "\n",
    "This new column will contain only the youtube url parsed from the message."
   ]
  },
  {
   "cell_type": "code",
   "execution_count": 14,
   "id": "fed4c5f8",
   "metadata": {},
   "outputs": [],
   "source": [
    "df['youtube_url'] = df['message'].apply(find_youtube_url)"
   ]
  },
  {
   "cell_type": "code",
   "execution_count": 15,
   "id": "4511485f",
   "metadata": {},
   "outputs": [
    {
     "data": {
      "text/html": [
       "<div>\n",
       "<style scoped>\n",
       "    .dataframe tbody tr th:only-of-type {\n",
       "        vertical-align: middle;\n",
       "    }\n",
       "\n",
       "    .dataframe tbody tr th {\n",
       "        vertical-align: top;\n",
       "    }\n",
       "\n",
       "    .dataframe thead th {\n",
       "        text-align: right;\n",
       "    }\n",
       "</style>\n",
       "<table border=\"1\" class=\"dataframe\">\n",
       "  <thead>\n",
       "    <tr style=\"text-align: right;\">\n",
       "      <th></th>\n",
       "      <th>message_id</th>\n",
       "      <th>date</th>\n",
       "      <th>message</th>\n",
       "      <th>youtube_url</th>\n",
       "    </tr>\n",
       "  </thead>\n",
       "  <tbody>\n",
       "    <tr>\n",
       "      <th>6</th>\n",
       "      <td>66141</td>\n",
       "      <td>2023-02-20 16:04:20+00:00</td>\n",
       "      <td>http://www.youtube.com/watch?v=TEtZTNvco0U</td>\n",
       "      <td>http://www.youtube.com/watch?v=TEtZTNvco0U</td>\n",
       "    </tr>\n",
       "    <tr>\n",
       "      <th>7</th>\n",
       "      <td>66140</td>\n",
       "      <td>2023-02-20 16:01:45+00:00</td>\n",
       "      <td>https://www.youtube.com/watch?v=I1Aisbeuo2o</td>\n",
       "      <td>https://www.youtube.com/watch?v=I1Aisbeuo2o</td>\n",
       "    </tr>\n",
       "    <tr>\n",
       "      <th>8</th>\n",
       "      <td>66139</td>\n",
       "      <td>2023-02-20 15:56:30+00:00</td>\n",
       "      <td>https://www.youtube.com/watch?v=bX1w9BZ5svw</td>\n",
       "      <td>https://www.youtube.com/watch?v=bX1w9BZ5svw</td>\n",
       "    </tr>\n",
       "    <tr>\n",
       "      <th>11</th>\n",
       "      <td>66136</td>\n",
       "      <td>2023-02-20 15:06:54+00:00</td>\n",
       "      <td>https://www.youtube.com/watch?v=-UJwSUxf0YE</td>\n",
       "      <td>https://www.youtube.com/watch?v=-UJwSUxf0YE</td>\n",
       "    </tr>\n",
       "    <tr>\n",
       "      <th>14</th>\n",
       "      <td>66133</td>\n",
       "      <td>2023-02-19 19:40:53+00:00</td>\n",
       "      <td>https://youtu.be/NkTqBmjbnpU</td>\n",
       "      <td>https://youtu.be/NkTqBmjbnpU</td>\n",
       "    </tr>\n",
       "  </tbody>\n",
       "</table>\n",
       "</div>"
      ],
      "text/plain": [
       "    message_id                       date  \\\n",
       "6        66141  2023-02-20 16:04:20+00:00   \n",
       "7        66140  2023-02-20 16:01:45+00:00   \n",
       "8        66139  2023-02-20 15:56:30+00:00   \n",
       "11       66136  2023-02-20 15:06:54+00:00   \n",
       "14       66133  2023-02-19 19:40:53+00:00   \n",
       "\n",
       "                                        message  \\\n",
       "6    http://www.youtube.com/watch?v=TEtZTNvco0U   \n",
       "7   https://www.youtube.com/watch?v=I1Aisbeuo2o   \n",
       "8   https://www.youtube.com/watch?v=bX1w9BZ5svw   \n",
       "11  https://www.youtube.com/watch?v=-UJwSUxf0YE   \n",
       "14                 https://youtu.be/NkTqBmjbnpU   \n",
       "\n",
       "                                    youtube_url  \n",
       "6    http://www.youtube.com/watch?v=TEtZTNvco0U  \n",
       "7   https://www.youtube.com/watch?v=I1Aisbeuo2o  \n",
       "8   https://www.youtube.com/watch?v=bX1w9BZ5svw  \n",
       "11  https://www.youtube.com/watch?v=-UJwSUxf0YE  \n",
       "14                 https://youtu.be/NkTqBmjbnpU  "
      ]
     },
     "execution_count": 15,
     "metadata": {},
     "output_type": "execute_result"
    }
   ],
   "source": [
    "df_ytb_urls = df.dropna()\n",
    "df_ytb_urls.head()"
   ]
  },
  {
   "cell_type": "code",
   "execution_count": 16,
   "id": "75cb3a3a",
   "metadata": {},
   "outputs": [
    {
     "data": {
      "text/plain": [
       "242"
      ]
     },
     "execution_count": 16,
     "metadata": {},
     "output_type": "execute_result"
    }
   ],
   "source": [
    "len(df_ytb_urls)"
   ]
  },
  {
   "cell_type": "markdown",
   "id": "6ed8baf8",
   "metadata": {},
   "source": [
    "# Getting youtube video information from the oembed API\n",
    "\n",
    "Youtube has an open endpoint that can be used to validate URLs and get general information about a video."
   ]
  },
  {
   "cell_type": "code",
   "execution_count": 17,
   "id": "5de8bb1d",
   "metadata": {
    "scrolled": true
   },
   "outputs": [
    {
     "name": "stdout",
     "output_type": "stream",
     "text": [
      "200\n",
      "{'title': 'Raiz Ancestral', 'author_name': 'Gaia Piá - Topic', 'author_url': 'https://www.youtube.com/channel/UCf8omZ55YHyrfijCxzX5mow', 'type': 'video', 'height': 150, 'width': 200, 'version': '1.0', 'provider_name': 'YouTube', 'provider_url': 'https://www.youtube.com/', 'thumbnail_height': 360, 'thumbnail_width': 480, 'thumbnail_url': 'https://i.ytimg.com/vi/I1Aisbeuo2o/hqdefault.jpg', 'html': '<iframe width=\"200\" height=\"150\" src=\"https://www.youtube.com/embed/I1Aisbeuo2o?feature=oembed\" frameborder=\"0\" allow=\"accelerometer; autoplay; clipboard-write; encrypted-media; gyroscope; picture-in-picture; web-share\" allowfullscreen title=\"Raiz Ancestral\"></iframe>'}\n"
     ]
    }
   ],
   "source": [
    "video_url = \"https://www.youtube.com/watch?v=I1Aisbeuo2o\"\n",
    "oembed_url = f\"https://www.youtube.com/oembed?url={video_url}&format=json\"\n",
    "response = requests.get(oembed_url)\n",
    "print(response.status_code)\n",
    "print(response.json())"
   ]
  },
  {
   "cell_type": "markdown",
   "id": "a7852b54",
   "metadata": {},
   "source": [
    "## Videos have a \"author_name\" field\n",
    "\n",
    "In the following format: `'author_name': 'Gaia Piá - Topic'`, the \"Topic\" might represent that it is from a band."
   ]
  },
  {
   "cell_type": "code",
   "execution_count": 18,
   "id": "f74f1ed2",
   "metadata": {},
   "outputs": [
    {
     "name": "stdout",
     "output_type": "stream",
     "text": [
      "Response status: 200\n",
      "Youtube oembed json: {'title': 'Motörhead – Overkill (Official Video)', 'author_name': 'Motörhead Official', 'author_url': 'https://www.youtube.com/@motorhead', 'type': 'video', 'height': 150, 'width': 200, 'version': '1.0', 'provider_name': 'YouTube', 'provider_url': 'https://www.youtube.com/', 'thumbnail_height': 360, 'thumbnail_width': 480, 'thumbnail_url': 'https://i.ytimg.com/vi/MlzTET_8SQg/hqdefault.jpg', 'html': '<iframe width=\"200\" height=\"150\" src=\"https://www.youtube.com/embed/MlzTET_8SQg?feature=oembed\" frameborder=\"0\" allow=\"accelerometer; autoplay; clipboard-write; encrypted-media; gyroscope; picture-in-picture; web-share\" allowfullscreen title=\"Motörhead – Overkill (Official Video)\"></iframe>'}\n"
     ]
    }
   ],
   "source": [
    "video_url = \"https://www.youtube.com/watch?v=MlzTET_8SQg\"\n",
    "oembed_url = f\"https://www.youtube.com/oembed?url={video_url}&format=json\"\n",
    "response = requests.get(oembed_url)\n",
    "print(f\"Response status: {response.status_code}\")\n",
    "ytb_json = response.json()\n",
    "print(f\"Youtube oembed json: {ytb_json}\")"
   ]
  },
  {
   "cell_type": "markdown",
   "id": "2ee0a26d",
   "metadata": {},
   "source": [
    "## Getting band/author information\n",
    "\n",
    "We have a few options on how to use a given author name to grab genre information.\n",
    "\n",
    "- Spotify API: <https://developer.spotify.com/documentation/web-api/>\n",
    "- EveryNoise: <https://everynoise.com/>\n",
    "\n",
    "The everynoise website doesn't have an actual API endpoint, but we can leverage it's lookup url and parse the HTML."
   ]
  },
  {
   "cell_type": "code",
   "execution_count": 19,
   "id": "931b000b",
   "metadata": {},
   "outputs": [
    {
     "name": "stdout",
     "output_type": "stream",
     "text": [
      "Received author from youtube oembed: Motörhead Official\n",
      "Received title from youtube oembed: Motörhead – Overkill (Official Video)\n"
     ]
    }
   ],
   "source": [
    "ytb_author = ytb_json['author_name']\n",
    "ytb_title = ytb_json['title']\n",
    "\n",
    "print(f\"Received author from youtube oembed: {ytb_author}\")\n",
    "print(f\"Received title from youtube oembed: {ytb_title}\")"
   ]
  },
  {
   "cell_type": "markdown",
   "id": "644e6877",
   "metadata": {},
   "source": [
    "## Using the everynoise search URL\n",
    "\n",
    "Let's start by sending the `ytb_author` string directly and trying to parse the output"
   ]
  },
  {
   "cell_type": "code",
   "execution_count": 20,
   "id": "1df17364",
   "metadata": {},
   "outputs": [],
   "source": [
    "everynoise_url = \"https://everynoise.com/lookup.cgi\""
   ]
  },
  {
   "cell_type": "code",
   "execution_count": 21,
   "id": "cc69433e",
   "metadata": {},
   "outputs": [],
   "source": [
    "everynoise_request = requests.get(everynoise_url, params={\"who\": ytb_author})"
   ]
  },
  {
   "cell_type": "code",
   "execution_count": 24,
   "id": "62f425a2",
   "metadata": {},
   "outputs": [
    {
     "data": {
      "text/plain": [
       "'<html>\\n<head>\\n<meta http-equiv=\"Content-Type\" content=\"text/html;charset=utf-8\">\\n<style type=\"text/css\">\\nbody {font: 14px \"Gill Sans\", \"Gill Sans MT\", \"Trebuchet MS\", sans-serif; margin: 0px; color: gray}\\nform {display: inline}\\na {color: teal; text-decoration: none}\\na:hover {color: red; text-decoration: underline}\\n</style>\\n<body>\\n\\n<form action=\"lookup.cgi\" method=\"GET\">find artist <input type=text size=52 name=who value=\"MotÃ¶rhead Official\"><input type=hidden name=mode value=\"map\"></form>\\n<div>\\nSorry, that one doesn\\'t seem to be on any of these maps yet.\\n</div></body></html>\\n'"
      ]
     },
     "execution_count": 24,
     "metadata": {},
     "output_type": "execute_result"
    }
   ],
   "source": [
    "everynoise_request.text"
   ]
  },
  {
   "cell_type": "markdown",
   "id": "0976d217",
   "metadata": {},
   "source": [
    "Since this requests returns valid html, we can parse it with beautiful soup."
   ]
  },
  {
   "cell_type": "code",
   "execution_count": 26,
   "id": "21192ba0",
   "metadata": {},
   "outputs": [
    {
     "data": {
      "text/plain": [
       "'<html>\\n <head>\\n  <meta content=\"text/html;charset=utf-8\" http-equiv=\"Content-Type\"/>\\n  <style type=\"text/css\">\\n   body {font: 14px \"Gill Sans\", \"Gill Sans MT\", \"Trebuchet MS\", sans-serif; margin: 0px; color: gray}\\nform {display: inline}\\na {color: teal; text-decoration: none}\\na:hover {color: red; text-decoration: underline}\\n  </style>\\n  <body>\\n   <form action=\"lookup.cgi\" method=\"GET\">\\n    find artist\\n    <input name=\"who\" size=\"52\" type=\"text\" value=\"MotÃ¶rhead Official\"/>\\n    <input name=\"mode\" type=\"hidden\" value=\"map\"/>\\n   </form>\\n   <div>\\n    Sorry, that one doesn\\'t seem to be on any of these maps yet.\\n   </div>\\n  </body>\\n </head>\\n</html>\\n'"
      ]
     },
     "execution_count": 26,
     "metadata": {},
     "output_type": "execute_result"
    }
   ],
   "source": [
    "soup = BeautifulSoup(everynoise_request.text, 'html.parser')\n",
    "soup.prettify()\n"
   ]
  },
  {
   "cell_type": "code",
   "execution_count": 28,
   "id": "94179ee7",
   "metadata": {},
   "outputs": [
    {
     "data": {
      "text/plain": [
       "[<div>\n",
       " Sorry, that one doesn't seem to be on any of these maps yet.\n",
       " </div>]"
      ]
     },
     "execution_count": 28,
     "metadata": {},
     "output_type": "execute_result"
    }
   ],
   "source": [
    "soup.find_all('div')"
   ]
  },
  {
   "cell_type": "code",
   "execution_count": 27,
   "id": "4f901aee",
   "metadata": {},
   "outputs": [
    {
     "data": {
      "text/plain": [
       "[]"
      ]
     },
     "execution_count": 27,
     "metadata": {},
     "output_type": "execute_result"
    }
   ],
   "source": [
    "soup.find_all('a')"
   ]
  },
  {
   "cell_type": "markdown",
   "id": "7722ca6b",
   "metadata": {},
   "source": [
    "We can try splitting the youtube author by words, and sending them individually"
   ]
  },
  {
   "cell_type": "code",
   "execution_count": 30,
   "id": "0077be2a",
   "metadata": {},
   "outputs": [
    {
     "data": {
      "text/plain": [
       "[[<a href=\"engenremap-metal.html\" target=\"_parent\">metal</a>,\n",
       "  <a href=\"engenremap-hardrock.html\" target=\"_parent\">hard rock</a>,\n",
       "  <a href=\"engenremap-speedmetal.html\" target=\"_parent\">speed metal</a>,\n",
       "  <a href=\"engenremap-rock.html\" target=\"_parent\">rock</a>,\n",
       "  <a href=\"engenremap-albumrock.html\" target=\"_parent\">album rock</a>,\n",
       "  <a href=\"everynoise1d.cgi?scope=all&amp;root=metal&amp;root=hard%20rock&amp;root=speed%20metal&amp;root=rock&amp;root=album%20rock\" target=\"_parent\" title=\"go to the list view for these genres\">â·</a>,\n",
       "  <a href=\"artistprofile.cgi?id=1DFr97A9HnbV3SKTJFu62M\" target=\"_parent\" title=\"go to the profile for this artist\">â</a>],\n",
       " []]"
      ]
     },
     "execution_count": 30,
     "metadata": {},
     "output_type": "execute_result"
    }
   ],
   "source": [
    "results = []\n",
    "for word in ytb_author.split(\" \"):\n",
    "    everynoise_request = requests.get(everynoise_url, params={\"who\": word})\n",
    "    soup = BeautifulSoup(everynoise_request.text, 'html.parser')\n",
    "    results.append(soup.find_all('a'))\n",
    "results"
   ]
  },
  {
   "cell_type": "code",
   "execution_count": 31,
   "id": "7cebcec3",
   "metadata": {},
   "outputs": [
    {
     "name": "stdout",
     "output_type": "stream",
     "text": [
      "metal\n",
      "hard rock\n",
      "speed metal\n",
      "rock\n",
      "album rock\n",
      "â·\n",
      "â\n"
     ]
    }
   ],
   "source": [
    "for result in results:\n",
    "    for link in result:\n",
    "        print(link.text)"
   ]
  }
 ],
 "metadata": {
  "kernelspec": {
   "display_name": "Python 3 (ipykernel)",
   "language": "python",
   "name": "python3"
  },
  "language_info": {
   "codemirror_mode": {
    "name": "ipython",
    "version": 3
   },
   "file_extension": ".py",
   "mimetype": "text/x-python",
   "name": "python",
   "nbconvert_exporter": "python",
   "pygments_lexer": "ipython3",
   "version": "3.10.9"
  }
 },
 "nbformat": 4,
 "nbformat_minor": 5
}
